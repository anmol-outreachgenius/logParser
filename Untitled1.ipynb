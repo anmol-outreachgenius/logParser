{
 "cells": [
  {
   "cell_type": "code",
   "execution_count": 7,
   "id": "cdf6e4e5-6044-4513-9b97-e8df6cf7e6d3",
   "metadata": {},
   "outputs": [],
   "source": [
    "from google.cloud import storage\n",
    "\n",
    "\n",
    "def cors_configuration(bucket_name):\n",
    "    \"\"\"Set a bucket's CORS policies configuration.\"\"\"\n",
    "    # bucket_name = \"your-bucket-name\"\n",
    "\n",
    "    storage_client = storage.Client()\n",
    "    bucket = storage_client.get_bucket(bucket_name)\n",
    "    bucket.cors = [\n",
    "    {\n",
    "      \"origin\": [\"*\"],\n",
    "      \"method\": [\"GET\"],\n",
    "      \"responseHeader\": [\"Content-Type\"],\n",
    "      \"maxAgeSeconds\": 3600\n",
    "    }\n",
    "]\n",
    "    bucket.patch()\n",
    "\n",
    "    print(f\"Set CORS policies for bucket {bucket.name} is {bucket.cors}\")\n",
    "    return bucket"
   ]
  },
  {
   "cell_type": "code",
   "execution_count": 8,
   "id": "7675221b-5d7d-454a-b7b7-d6d5bf2746ba",
   "metadata": {},
   "outputs": [
    {
     "name": "stdout",
     "output_type": "stream",
     "text": [
      "Set CORS policies for bucket cdn.outreachgenius.ai is [{'origin': ['*'], 'method': ['GET'], 'responseHeader': ['Content-Type'], 'maxAgeSeconds': 3600}]\n"
     ]
    },
    {
     "data": {
      "text/plain": [
       "<Bucket: cdn.outreachgenius.ai>"
      ]
     },
     "execution_count": 8,
     "metadata": {},
     "output_type": "execute_result"
    }
   ],
   "source": [
    "cors_configuration('cdn.outreachgenius.ai')"
   ]
  },
  {
   "cell_type": "code",
   "execution_count": null,
   "id": "e293a057-b147-4a49-85fb-2f759a249f3f",
   "metadata": {},
   "outputs": [],
   "source": []
  }
 ],
 "metadata": {
  "kernelspec": {
   "display_name": "Python 3 (ipykernel)",
   "language": "python",
   "name": "python3"
  },
  "language_info": {
   "codemirror_mode": {
    "name": "ipython",
    "version": 3
   },
   "file_extension": ".py",
   "mimetype": "text/x-python",
   "name": "python",
   "nbconvert_exporter": "python",
   "pygments_lexer": "ipython3",
   "version": "3.11.6"
  }
 },
 "nbformat": 4,
 "nbformat_minor": 5
}
