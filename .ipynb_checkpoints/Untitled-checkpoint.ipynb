{
 "cells": [
  {
   "cell_type": "code",
   "execution_count": 16,
   "id": "72324953-5cea-4f8a-a87b-766362d45371",
   "metadata": {},
   "outputs": [],
   "source": [
    "# !pip install --upgrade google-cloud-storage google-cloud-bigquery google-cloud-bigquery-storage\n",
    "# !gcloud auth application-default login\n",
    "from google.cloud import storage\n",
    "import google.cloud.bigquery.dbapi as bq\n",
    "import re\n",
    "import pprint\n",
    "from urllib.parse import parse_qs\n",
    "import psycopg2"
   ]
  },
  {
   "cell_type": "code",
   "execution_count": 17,
   "id": "41437811-4d4a-40a5-9052-569bf08d1363",
   "metadata": {},
   "outputs": [],
   "source": [
    "storage_client = storage.Client()"
   ]
  },
  {
   "cell_type": "code",
   "execution_count": 18,
   "id": "67c93a7e-9473-4923-b9cf-dc836d0f867a",
   "metadata": {},
   "outputs": [],
   "source": [
    "def list_blobs():\n",
    "    bucket_name = \"pixel-logs-outreach-genius\"\n",
    "\n",
    "    # Note: Client.list_blobs requires at least package version 1.17.0.\n",
    "    blobs = storage_client.list_blobs(bucket_name)\n",
    "\n",
    "    return blobs"
   ]
  },
  {
   "cell_type": "code",
   "execution_count": 23,
   "id": "3a80010b-bb10-4155-adc5-96f817ba826f",
   "metadata": {},
   "outputs": [
    {
     "name": "stdout",
     "output_type": "stream",
     "text": [
      "[{'pid': ['1234567890'],\n",
      "  'uid': ['1.0-kp801gsp-lvgqu32i'],\n",
      "  'ev': ['pageView'],\n",
      "  'ed': ['{\"url\":\"http://localhost:5173/\"}'],\n",
      "  'v': ['1.0'],\n",
      "  'dl': ['http://localhost:5173/'],\n",
      "  'ts': ['1714600381139'],\n",
      "  'de': ['UTF-8'],\n",
      "  'sr': ['1760x990'],\n",
      "  'vp': ['1207x889'],\n",
      "  'cd': ['24'],\n",
      "  'dt': ['Document'],\n",
      "  'bn': ['Firefox 125'],\n",
      "  'md': ['false'],\n",
      "  'ua': ['Mozilla/5.0 (X11; Linux x86_64; rv:125.0) Gecko/20100101 '\n",
      "         'Firefox/125.0'],\n",
      "  'tz': ['300'],\n",
      "  'sessionId': ['1.0-badv53uw-lvocsp8z']},\n",
      " {'pid': ['1234567890'],\n",
      "  'uid': ['1.0-kp801gsp-lvgqu32i'],\n",
      "  'ev': ['sessionEnd'],\n",
      "  'ed': ['{\"timeSpent\":45926,\"scrollDepths\":[],\"endTime\":1714600427065}'],\n",
      "  'v': ['1.0'],\n",
      "  'dl': ['http://localhost:5173/'],\n",
      "  'ts': ['1714600427065'],\n",
      "  'de': ['UTF-8'],\n",
      "  'sr': ['1760x990'],\n",
      "  'vp': ['1207x889'],\n",
      "  'cd': ['24'],\n",
      "  'dt': ['Document'],\n",
      "  'bn': ['Firefox 125'],\n",
      "  'md': ['false'],\n",
      "  'ua': ['Mozilla/5.0 (X11; Linux x86_64; rv:125.0) Gecko/20100101 '\n",
      "         'Firefox/125.0'],\n",
      "  'tz': ['300'],\n",
      "  'sessionId': ['1.0-badv53uw-lvocsp8z']},\n",
      " {'pid': ['1234567890'],\n",
      "  'uid': ['1.0-kp801gsp-lvgqu32i'],\n",
      "  'ev': ['pageView'],\n",
      "  'ed': ['{\"url\":\"http://localhost:5173/\"}'],\n",
      "  'v': ['1.0'],\n",
      "  'dl': ['http://localhost:5173/'],\n",
      "  'ts': ['1714600541389'],\n",
      "  'de': ['UTF-8'],\n",
      "  'sr': ['1760x990'],\n",
      "  'vp': ['1207x889'],\n",
      "  'cd': ['24'],\n",
      "  'dt': ['Document'],\n",
      "  'bn': ['Firefox 125'],\n",
      "  'md': ['false'],\n",
      "  'ua': ['Mozilla/5.0 (X11; Linux x86_64; rv:125.0) Gecko/20100101 '\n",
      "         'Firefox/125.0'],\n",
      "  'tz': ['300'],\n",
      "  'sessionId': ['1.0-p69aadhi-lvocw4wd']}]\n"
     ]
    }
   ],
   "source": [
    "urls = []\n",
    "\n",
    "for blob in list_blobs():\n",
    "    downloaded_blobs = blob.download_as_string().decode('utf-8')\n",
    "    urls = urls + [parse_qs(x) for x in (re.findall(r'\"requestUrl\":\"https://pixel.outreachgenius.ai/pixel.gif\\?([^\"]*)\"',downloaded_blobs))]\n",
    "    blob.delete()\n",
    "\n",
    "pprint.pp(urls)"
   ]
  },
  {
   "cell_type": "code",
   "execution_count": 39,
   "id": "b9b13999-55ad-46fb-b126-e109cae1bef2",
   "metadata": {},
   "outputs": [],
   "source": [
    "db= psycopg2.connect(\n",
    "    database=\"postgres\",\n",
    "    user=\"postgres\",\n",
    "    password=\"postgres\",\n",
    "    host=\"pixel-log.cxgy2o6qilhd.us-west-2.rds.amazonaws.com\",\n",
    "    port='5432'\n",
    ")\n",
    "\n",
    "import datetime\n",
    "\n",
    "eventmap = {\n",
    "\"ctaClick\":\"cta_clicks\",\n",
    "\"formInteraction\":\"form_interactons\",\n",
    "\"videoEngagement\":\"video_engagements\",\n",
    "\"socialMediaInteraction\":\"social_media_clicks\",\n",
    "\"download\":\"file_downloads\",\n",
    "\"productReview\":\"product_reviews\",\n",
    "\"emailSubscribe\":\"email_subscriptions\"\n",
    "}\n",
    "\n",
    "def sanitize_input(inputData):\n",
    "    # Use regular expression to remove non-alphanumeric characters\n",
    "    sanitized_data = re.sub(r'[^a-zA-Z0-9\\-\\_\\s]', '', inputData)\n",
    "    return sanitized_data\n",
    "\n",
    "def createColumn(sessionId, timestamp, pid, uid):\n",
    "    query = 'INSERT INTO Logs (sessionId, visited_at, pid, uid) VALUES (%s, %s, %s, %s)'\n",
    "    cur = db.cursor()\n",
    "    cur.execute(query, (sessionId, timestamp, pid, uid))\n",
    "    print('created column')\n",
    "    db.commit()\n",
    "\n",
    "def logEvent(sessionId, event):\n",
    "    query = f'UPDATE Logs SET {event} = {event} + 1 WHERE sessionId = %s'\n",
    "    cur = db.cursor()\n",
    "    cur.execute(query, (sessionId,))\n",
    "    db.commit()\n",
    "\n",
    "def setValue(sessionId, column, value):\n",
    "    query = f'UPDATE Logs SET {column} = %s WHERE sessionId = %s'\n",
    "    cur = db.cursor()\n",
    "    cur.execute(query, (value, sessionId))\n",
    "    db.commit()\n",
    "\n",
    "def handleData(data):\n",
    "    if (data[\"ev\"][0] == 'pageView') :\n",
    "        createColumn(data['sessionId'][0],datetime.datetime.fromtimestamp(int(data['ts'][0])/1000),data['pid'][0],data['uid'][0])\n",
    "        \n",
    "    if (data[\"ev\"][0] == 'sessionEnd') :\n",
    "        setValue(data['sessionId'][0],'session_duration',eval(data['ed'][0])['timeSpent'])\n",
    "    try:\n",
    "        logEvent(data['sessionId'][0],eventmap[data['ev'][0]])\n",
    "    except Exception as e:\n",
    "        print(e)\n"
   ]
  },
  {
   "cell_type": "code",
   "execution_count": 40,
   "id": "affb412a-1286-4ecd-a5e0-4fbb63fb3876",
   "metadata": {},
   "outputs": [
    {
     "name": "stdout",
     "output_type": "stream",
     "text": [
      "{'pid': ['1234567890'], 'uid': ['1.0-kp801gsp-lvgqu32i'], 'ev': ['pageView'], 'ed': ['{\"url\":\"http://localhost:5173/\"}'], 'v': ['1.0'], 'dl': ['http://localhost:5173/'], 'ts': ['1714600381139'], 'de': ['UTF-8'], 'sr': ['1760x990'], 'vp': ['1207x889'], 'cd': ['24'], 'dt': ['Document'], 'bn': ['Firefox 125'], 'md': ['false'], 'ua': ['Mozilla/5.0 (X11; Linux x86_64; rv:125.0) Gecko/20100101 Firefox/125.0'], 'tz': ['300'], 'sessionId': ['1.0-badv53uw-lvocsp8z']}\n",
      "created column\n",
      "'pageView'\n",
      "{'pid': ['1234567890'], 'uid': ['1.0-kp801gsp-lvgqu32i'], 'ev': ['sessionEnd'], 'ed': ['{\"timeSpent\":45926,\"scrollDepths\":[],\"endTime\":1714600427065}'], 'v': ['1.0'], 'dl': ['http://localhost:5173/'], 'ts': ['1714600427065'], 'de': ['UTF-8'], 'sr': ['1760x990'], 'vp': ['1207x889'], 'cd': ['24'], 'dt': ['Document'], 'bn': ['Firefox 125'], 'md': ['false'], 'ua': ['Mozilla/5.0 (X11; Linux x86_64; rv:125.0) Gecko/20100101 Firefox/125.0'], 'tz': ['300'], 'sessionId': ['1.0-badv53uw-lvocsp8z']}\n",
      "'sessionEnd'\n",
      "{'pid': ['1234567890'], 'uid': ['1.0-kp801gsp-lvgqu32i'], 'ev': ['pageView'], 'ed': ['{\"url\":\"http://localhost:5173/\"}'], 'v': ['1.0'], 'dl': ['http://localhost:5173/'], 'ts': ['1714600541389'], 'de': ['UTF-8'], 'sr': ['1760x990'], 'vp': ['1207x889'], 'cd': ['24'], 'dt': ['Document'], 'bn': ['Firefox 125'], 'md': ['false'], 'ua': ['Mozilla/5.0 (X11; Linux x86_64; rv:125.0) Gecko/20100101 Firefox/125.0'], 'tz': ['300'], 'sessionId': ['1.0-p69aadhi-lvocw4wd']}\n",
      "created column\n",
      "'pageView'\n"
     ]
    }
   ],
   "source": [
    "for data in urls:\n",
    "    handleData(data)"
   ]
  },
  {
   "cell_type": "code",
   "execution_count": 12,
   "id": "5a7d33f9-9d39-40c7-b731-3f65b1a07cab",
   "metadata": {},
   "outputs": [],
   "source": []
  },
  {
   "cell_type": "code",
   "execution_count": null,
   "id": "e0059065-cde9-4ffd-b4c7-609cc3c52a4a",
   "metadata": {},
   "outputs": [],
   "source": []
  }
 ],
 "metadata": {
  "kernelspec": {
   "display_name": "Python 3 (ipykernel)",
   "language": "python",
   "name": "python3"
  },
  "language_info": {
   "codemirror_mode": {
    "name": "ipython",
    "version": 3
   },
   "file_extension": ".py",
   "mimetype": "text/x-python",
   "name": "python",
   "nbconvert_exporter": "python",
   "pygments_lexer": "ipython3",
   "version": "3.11.6"
  }
 },
 "nbformat": 4,
 "nbformat_minor": 5
}
